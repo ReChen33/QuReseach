{
 "cells": [
  {
   "cell_type": "markdown",
   "metadata": {},
   "source": [
    "Introduction to LaTeX\n",
    "\n",
    "LaTeX is a typesetting system commonly used for creating documents with complex mathematical equations, scientific notations, and professional-looking layouts. It is widely used in academia, particularly in the fields of mathematics, physics, computer science, and engineering.\n"
   ]
  },
  {
   "cell_type": "markdown",
   "metadata": {},
   "source": [
    "Formar\n",
    "    \\command"
   ]
  },
  {
   "cell_type": "markdown",
   "metadata": {},
   "source": [
    "Custom Commands:    \n",
    "    \\newcommmand{\\Name}{full name}\n",
    "    "
   ]
  }
 ],
 "metadata": {
  "language_info": {
   "name": "python"
  }
 },
 "nbformat": 4,
 "nbformat_minor": 2
}
