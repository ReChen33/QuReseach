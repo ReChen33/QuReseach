{
 "cells": [
  {
   "cell_type": "markdown",
   "metadata": {},
   "source": [
    "# what\n",
    "# why\n",
    "# When\n",
    "\n",
    "text format\n",
    "    Git --> text\n",
    "\n",
    "keep redoable\n",
    "\n",
    "FAIR data principles\n",
    "\n",
    "save code to diff comp s\n",
    "individual Letex overly?\n",
    "paper\n",
    "\n",
    "# How\n",
    "Version control v.s. Ver. hist.\n",
    "\n",
    "branch\n",
    "\n",
    "4 commands\n",
    "    tell Git track files\n",
    "    \n"
   ]
  }
 ],
 "metadata": {
  "language_info": {
   "name": "python"
  }
 },
 "nbformat": 4,
 "nbformat_minor": 2
}
