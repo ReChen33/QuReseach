{
 "cells": [
  {
   "cell_type": "markdown",
   "metadata": {},
   "source": [
    "# data visuaalization\n",
    "06/27/2024\n"
   ]
  },
  {
   "cell_type": "markdown",
   "metadata": {},
   "source": [
    "https://www.docker.com/\n",
    "\n",
    "https://dash.plotly.com/"
   ]
  },
  {
   "cell_type": "markdown",
   "metadata": {},
   "source": [
    "acquisition      \n",
    "Management    \n",
    "analysis    \n",
    "---> reak time data\n",
    "\n",
    ">>>Not csv     \n",
    "\n",
    "Web application     \n",
    ">Routing     \n",
    "...     \n",
    "\n",
    "Web frameworks    \n",
    ">Flask      \n",
    ">>real time analysis\n",
    ">>       \n",
    ">Dash     \n",
    ">> \n",
    "\n",
    "Other\n",
    "\n",
    "Time series Data Bases    \n",
    ">TSDB --> A time series database\n",
    ">> Efficient storage > CSV     \n",
    ">> \n",
    "\n",
    ">InfluxDB    \n",
    ">> can with/without Python   \n",
    "\n",
    ">Pinot     \n",
    ">>advanced\n",
    ">other: OpenTSDB\n",
    "\n",
    "Docker\n",
    ">help python code work between diff ver.\n",
    ">Protability\n",
    ">\n",
    "\n",
    "\n",
    "API token\n",
    "\n",
    "Code part:\n",
    "URL = \n",
    "TOKEN =\n",
    "ORG = \n",
    "TOKEN = \n",
    "\n",
    "deverlop serves\n",
    "\n",
    "\n"
   ]
  },
  {
   "cell_type": "markdown",
   "metadata": {},
   "source": []
  }
 ],
 "metadata": {
  "language_info": {
   "name": "python"
  }
 },
 "nbformat": 4,
 "nbformat_minor": 2
}
