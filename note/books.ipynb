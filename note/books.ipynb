{
 "cells": [
  {
   "cell_type": "markdown",
   "metadata": {},
   "source": [
    "# An Introduction to LTSpice  \n",
    "https://forum.digikey.com/t/an-introduction-to-ltspice/2023\n",
    "\n",
    "# [Effective Computation in physics](Effective_Computation_in_Physics.pdf)"
   ]
  },
  {
   "cell_type": "markdown",
   "metadata": {},
   "source": [
    "# video  \n",
    "Here is the list of videos about cosmology and instrumentation.\n",
    "\n",
    "Blackbody Radiation: https://youtu.be/EyJf6dkOJo0\n",
    "\n",
    "Measuring the CMB: https://www.youtube.com/watch?v=urSnFi5QXDE&feature=youtu.be\n",
    "\n",
    "3 things to know about the universe: https://youtu.be/RcKTP_KUPxk\n",
    "\n",
    "Recombination: https://youtu.be/rCzp9ja7kNY\n",
    "\n",
    "CMB Maps: https://youtu.be/2BZ3jhVACm4\n",
    "\n",
    " CMB Instrumentation I: Overview: https://youtu.be/T8_j3n3XXFw\n",
    "\n",
    "Meet Nick and Katie: https://youtu.be/thLWW3yuJ4s\n",
    "\n",
    "Katie and Nick talk about Small Aperture Telescopes:  https://youtu.be/mIHOdqT0vtw\n",
    "\n",
    "CMB Instrumentation II: Optics: https://youtu.be/QGNcKPjlaXk\n",
    "\n",
    "Meet Charlie and Joey:  https://youtu.be/5gzAWoo_L3k\n",
    "\n",
    "Charlie and Joey talk about CMB optics and Anti-Reflection Coatings: https://youtu.be/KICyMGyJ184\n",
    "\n",
    "Charlie and Joey describe a typical day: https://youtu.be/fzWpiOQtaN8\n",
    "\n",
    "CMB Instrumentation III: Detectors: https://youtu.be/zswr47SR8FI\n",
    "Meet Chris and Ben:  https://youtu.be/wYDIxU2JHiI\n",
    "\n",
    "Chris and Ben talk detector fab, and the difference between physicists and engineers: https://youtu.be/vRYwbQSO1Lg\n",
    "\n",
    "Linus Tech Tips explains RF chambers\n",
    "https://www.youtube.com/watch?v=bY4MTjVEtjE\n",
    "\n",
    "Linus Tech Tips and Cable Testing\n",
    "https://www.youtube.com/watch?v=XFbJD6RE4EY\n",
    "\n",
    "Linus Tech Tips and Cable Testing (part 2)\n",
    "https://www.youtube.com/watch?v=u6lx1ntNoxE"
   ]
  }
 ],
 "metadata": {
  "language_info": {
   "name": "python"
  }
 },
 "nbformat": 4,
 "nbformat_minor": 2
}
