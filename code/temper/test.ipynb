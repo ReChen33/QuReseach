{
 "cells": [
  {
   "cell_type": "code",
   "execution_count": null,
   "metadata": {},
   "outputs": [],
   "source": [
    "import numpy as np\n",
    "import pandas as pd\n",
    "from datetime import datetime\n",
    "from pathlib import Path\n",
    "\n",
    "currentTime = datetime.now()\n",
    "\n",
    "data = np.column_stack((currentTime,7,2,3,\n",
    "                        4,5,6))\n",
    "df = pd.DataFrame(data,columns=['YYYY-MM-DD HH:MM:SS.micsec',\n",
    "                                'Outer Temperature','Outer Humidity','Outer Dew point',\n",
    "                                'Inner Temperature','Inner Humidity','Inner Dew point'])\n",
    "\n",
    "\n",
    "file_path = f\"{currentTime.date()}.csv\"\n",
    "my_file = Path(file_path)\n",
    "\n",
    "if my_file.exists(): # file exists\n",
    "    df.to_csv(f'{currentTime.date()}.csv', mode = 'a', index=False, header=False)\n",
    "else: \n",
    "    df.to_csv(f'{currentTime.date()}.csv', index=False)"
   ]
  },
  {
   "cell_type": "markdown",
   "metadata": {},
   "source": [
    "LInux python version 2.7.18\n"
   ]
  },
  {
   "cell_type": "code",
   "execution_count": null,
   "metadata": {},
   "outputs": [],
   "source": [
    "file = open(\"123.txt\",\"w\")\n",
    "file.write(\"1 ,2,3 \\n 2,3,4\\n \\n\")\n"
   ]
  },
  {
   "cell_type": "code",
   "execution_count": null,
   "metadata": {},
   "outputs": [],
   "source": [
    "file = open(\"123.txt\",\"r\")\n",
    "data = []\n",
    "for line in file.readlines():\n",
    "    #print(line,type(line))\n",
    "    data.append(line)\n",
    "#print(data)\n",
    "splitData = []\n",
    "\n",
    "for dataLine in data:\n",
    "    splitData.append(dataLine.split(',') )\n",
    "\n",
    "    for ssData in splitData:\n",
    "        for sssDate in ssData:\n",
    "            print(sssDate.split(','))"
   ]
  },
  {
   "cell_type": "code",
   "execution_count": null,
   "metadata": {},
   "outputs": [],
   "source": [
    "from invoke import Responder\n",
    "from fabric import Connection\n",
    "user = \"yifu@cmb.phys.unm.edu\"\n",
    "c = Connection(user)\n",
    "mypassword = \"SHAN@##san\"\n",
    "sudopass = Responder( pattern=r'\\[sudo\\] password:', response='mypassword\\n',)\n",
    "\n"
   ]
  }
 ],
 "metadata": {
  "kernelspec": {
   "display_name": "base",
   "language": "python",
   "name": "python3"
  },
  "language_info": {
   "codemirror_mode": {
    "name": "ipython",
    "version": 3
   },
   "file_extension": ".py",
   "mimetype": "text/x-python",
   "name": "python",
   "nbconvert_exporter": "python",
   "pygments_lexer": "ipython3",
   "version": "3.11.7"
  }
 },
 "nbformat": 4,
 "nbformat_minor": 2
}
