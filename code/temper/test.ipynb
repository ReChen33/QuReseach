{
 "cells": [
  {
   "cell_type": "code",
   "execution_count": 10,
   "metadata": {},
   "outputs": [],
   "source": [
    "import numpy as np\n",
    "import pandas as pd\n",
    "from datetime import datetime\n",
    "from pathlib import Path\n",
    "\n",
    "currentTime = datetime.now()\n",
    "\n",
    "data = np.column_stack((currentTime,7,2,3,\n",
    "                        4,5,6))\n",
    "df = pd.DataFrame(data,columns=['YYYY-MM-DD HH:MM:SS.micsec',\n",
    "                                'Outer Temperature','Outer Humidity','Outer Dew point',\n",
    "                                'Inner Temperature','Inner Humidity','Inner Dew point'])\n",
    "\n",
    "\n",
    "file_path = f\"{currentTime.date()}.csv\"\n",
    "my_file = Path(file_path)\n",
    "\n",
    "if my_file.exists(): # file exists\n",
    "    df.to_csv(f'{currentTime.date()}.csv', mode = 'a', index=False, header=False)\n",
    "else: \n",
    "    df.to_csv(f'{currentTime.date()}.csv', index=False)"
   ]
  },
  {
   "cell_type": "markdown",
   "metadata": {},
   "source": [
    "LInux python version 2.7.18\n"
   ]
  },
  {
   "cell_type": "code",
   "execution_count": null,
   "metadata": {},
   "outputs": [],
   "source": []
  },
  {
   "cell_type": "markdown",
   "metadata": {},
   "source": []
  }
 ],
 "metadata": {
  "kernelspec": {
   "display_name": "base",
   "language": "python",
   "name": "python3"
  },
  "language_info": {
   "codemirror_mode": {
    "name": "ipython",
    "version": 3
   },
   "file_extension": ".py",
   "mimetype": "text/x-python",
   "name": "python",
   "nbconvert_exporter": "python",
   "pygments_lexer": "ipython3",
   "version": "3.11.7"
  }
 },
 "nbformat": 4,
 "nbformat_minor": 2
}
