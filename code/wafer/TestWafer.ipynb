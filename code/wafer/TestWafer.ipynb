{
 "cells": [
  {
   "cell_type": "markdown",
   "metadata": {},
   "source": [
    "read the data from nist... file   \n",
    "    problem may come up: can't read the data    \n",
    "                         can't related the data with colunm     \n",
    "                         don't know the unit(??/pixel)    \n",
    "                         type error     \n",
    "   \n",
    "   \n",
    "use plt.hist    \n",
    "    \n",
    "mapping wafer    \n",
    "    pro: how to mapping?    \n",
    "         how to do sth like circle backgrond     \n",
    "         \n",
    "\n",
    "\n"
   ]
  },
  {
   "cell_type": "code",
   "execution_count": 26,
   "metadata": {},
   "outputs": [],
   "source": [
    "#This will be the program first use histogram  and then mapping the wafer\n",
    "\n",
    "import numpy as np\n",
    "import matplotlib.pyplot as plt\n",
    "from matplotlib import colors\n",
    "import pandas as pd\n",
    "\n",
    "#Read the data\n",
    "data = pd.read_csv('nist_so_mf_detector_array_padinfo.csv')\n",
    "\n",
    "#get columns vaule about pixel positon\n",
    "pixel_x_center = data['Pixel X center']\n",
    "pixel_y_center = data['Pixel Y center']\n",
    "#remove the column name\n",
    "pixel_x_center = pixel_x_center[1:]\n",
    "pixel_y_center = pixel_y_center[1:]\n",
    "\n",
    "#histogram\n",
    "plt.hist2d(pixel_x_center, pixel_y_center, bins = (1000,1000), norm=colors.LogNorm())\n",
    "#colors.LogNorm() normalize a given value to the 0-1 range on a log scale to show the log scale\n",
    "# use norm to emphasize the exist value \n",
    "plt.colorbar()\n",
    "plt.show()\n",
    "\n",
    "#get interesting plot I was excepted a histogram \n",
    "# but I forget to check the pair of wafer and just use a hist2d to get this plot\n",
    "# this at least show the wafer location in the plot"
   ]
  },
  {
   "cell_type": "code",
   "execution_count": null,
   "metadata": {},
   "outputs": [],
   "source": [
    "#need to group the pair of wafer\n",
    "#Don't know the pair of wafer"
   ]
  },
  {
   "cell_type": "code",
   "execution_count": null,
   "metadata": {},
   "outputs": [],
   "source": [
    "#try to get the unit for per pixel from the length of the focal plane\n",
    "#   \n",
    "sizeFocalPlane = 150 #dm = 1.5m\n"
   ]
  }
 ],
 "metadata": {
  "kernelspec": {
   "display_name": "base",
   "language": "python",
   "name": "python3"
  },
  "language_info": {
   "codemirror_mode": {
    "name": "ipython",
    "version": 3
   },
   "file_extension": ".py",
   "mimetype": "text/x-python",
   "name": "python",
   "nbconvert_exporter": "python",
   "pygments_lexer": "ipython3",
   "version": "3.11.7"
  }
 },
 "nbformat": 4,
 "nbformat_minor": 2
}
