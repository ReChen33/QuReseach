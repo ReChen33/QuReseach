{
 "cells": [
  {
   "cell_type": "code",
   "execution_count": 1,
   "metadata": {},
   "outputs": [],
   "source": [
    "import pickle as pkl\n",
    "import numpy as np\n",
    "from matplotlib import pyplot as plt\n",
    "\n",
    "with open('wafer_dict.pkl','rb') as f:\n",
    "    wafer_dict = pkl.load(f)\n"
   ]
  },
  {
   "cell_type": "code",
   "execution_count": 2,
   "metadata": {},
   "outputs": [
    {
     "name": "stdout",
     "output_type": "stream",
     "text": [
      "12708\n"
     ]
    },
    {
     "data": {
      "image/png": "[encoded data removed]",
      "text/plain": [
       "<Figure size 640x480 with 1 Axes>"
      ]
     },
     "metadata": {},
     "output_type": "display_data"
    }
   ],
   "source": [
    "#goal 1 \n",
    "goal1_dist = []\n",
    "\n",
    "\n",
    "\n",
    "for pixel in wafer_dict.keys():\n",
    "    same_pixel_pad_x = []\n",
    "    same_pixel_pad_y = []\n",
    "    for detector in wafer_dict[pixel].keys():\n",
    "        for Polarity in wafer_dict[pixel][detector].keys():\n",
    "            same_pixel_pad_x.append(wafer_dict[pixel][detector][Polarity]['Pad X center'])\n",
    "            same_pixel_pad_y.append(wafer_dict[pixel][detector][Polarity]['Pad Y center'])\n",
    "\n",
    "    for i in range(len(same_pixel_pad_x)):\n",
    "        for j in range(i+1, len(same_pixel_pad_x)):\n",
    "            dist_x = same_pixel_pad_x[i] - same_pixel_pad_x[j]\n",
    "            dist_y = same_pixel_pad_y[i] - same_pixel_pad_y[j]\n",
    "            dist = np.sqrt(dist_x**2 + dist_y**2)\n",
    "            goal1_dist.append(dist)\n",
    "\n",
    "print(len(goal1_dist))    \n",
    "                \n",
    "plt.hist(goal1_dist, bins = 1000)        \n",
    "plt.xscale('log')\n",
    "plt.show()\n",
    "\n",
    "     "
   ]
  },
  {
   "cell_type": "code",
   "execution_count": 10,
   "metadata": {},
   "outputs": [
    {
     "name": "stdout",
     "output_type": "stream",
     "text": [
      "3528\n",
      "3528 max is 61122.58203949385 min is 0.0\n"
     ]
    },
    {
     "data": {
      "image/png": "[encoded data removed]",
      "text/plain": [
       "<Figure size 640x480 with 1 Axes>"
      ]
     },
     "metadata": {},
     "output_type": "display_data"
    }
   ],
   "source": [
    "# goal 2\n",
    "\n",
    "goal2_dist = []\n",
    "\n",
    "group_A = {}\n",
    "group_B = {}\n",
    "group_C = {}\n",
    "\n",
    "\n",
    "for pixel in wafer_dict.keys():\n",
    "    if \"A\" in pixel:\n",
    "        group_A[pixel] = wafer_dict[pixel]\n",
    "    elif \"B\" in pixel:\n",
    "        group_B[pixel] = wafer_dict[pixel]\n",
    "    elif \"C\" in pixel:\n",
    "        group_C[pixel] = wafer_dict[pixel]\n",
    "\n",
    "# def list_to_nested_dict(sorted_list):\n",
    "#     \"\"\"Initialize an empty dictionary.\n",
    "# Iterate over the sorted list.\n",
    "# For each item in the list, extract the keys (pixel, pad_type, polarity) and the details.\n",
    "# Use these keys to reconstruct the nested dictionary structure.\"\"\"\n",
    "#     nested_dict = {}\n",
    "#     for keys, details in sorted_list:\n",
    "#         pixel, pad_type, polarity = keys\n",
    "#         if pixel not in nested_dict:\n",
    "#             nested_dict[pixel] = {}\n",
    "#         if pad_type not in nested_dict[pixel]:\n",
    "#             nested_dict[pixel][pad_type] = {}\n",
    "#         nested_dict[pixel][pad_type][polarity] = details\n",
    "#     return nested_dict\n",
    "\n",
    "def sorted_dict(group,sorted_by,give_reverse = True):\n",
    "    \"\"\"Flatten the dictionary structure to a list of tuples, where each tuple contains the full path to the pad (including Pixel, B0/T0/X0/R0/L0, and + or -) and the pad's details.\n",
    "Sort this list of tuples based on the \"Pad X center\" value found in the pad's details.\n",
    "Optionally, restructure the sorted list back into a dictionary format if needed.\"\"\"\n",
    "    flat_list = []\n",
    "    for pixel, pixel_data in group.items():\n",
    "        for pad_type, pad_data in pixel_data.items():\n",
    "            for polarity, details in pad_data.items():\n",
    "                flat_list.append(((pixel, pad_type, polarity), details))\n",
    "    sorted_list = sorted(flat_list, key = lambda x: x[1][sorted_by], reverse = give_reverse)\n",
    "    #dict = list_to_nested_dict(sorted_list)\n",
    "    return sorted_list\n",
    "\n",
    "# for group A, sort by pad x increasing\n",
    "# for group B, sort by pad y decreasing\n",
    "# for group A, sort by pad x decreasing\n",
    "sorted_group_A = sorted_dict(group_A,sorted_by='Pad X center',give_reverse=False)\n",
    "sorted_group_B = sorted_dict(group_B,sorted_by='Pad Y center',give_reverse=True)\n",
    "sorted_group_C = sorted_dict(group_C,sorted_by='Pad X center',give_reverse=True)\n",
    "\n",
    "reordered_dict = sorted_group_A + sorted_group_B + sorted_group_C\n",
    "\n",
    "print(len(reordered_dict))\n",
    "\n",
    "\n",
    "for i in range(len(reordered_dict)):\n",
    "        if i+1 < len(reordered_dict):\n",
    "            pixel_x_distance = reordered_dict[i][1]['Pixel X center'] \\\n",
    "                                - reordered_dict[i+1][1]['Pixel X center']\n",
    "            pixel_y_distance = reordered_dict[i][1]['Pixel Y center'] \\\n",
    "                                - reordered_dict[i+1][1]['Pixel Y center']\n",
    "            distance = np.sqrt((pixel_x_distance)**2 + (pixel_y_distance)**2)            \n",
    "            \n",
    "        elif i+1 == len(reordered_dict):\n",
    "            pixel_x_distance = reordered_dict[i][1]['Pixel X center'] \\\n",
    "                                - reordered_dict[0][1]['Pixel X center']\n",
    "            pixel_y_distance = reordered_dict[i][1]['Pixel Y center'] \\\n",
    "                                - reordered_dict[0][1]['Pixel Y center']\n",
    "            distance = np.sqrt((pixel_x_distance)**2 + (pixel_y_distance)**2)\n",
    "        goal2_dist.append(distance)\n",
    "\n",
    "print(len(goal2_dist),f\"max is {max(goal2_dist)}\",f\"min is {min(goal2_dist)}\")\n",
    "plt.hist(goal2_dist, bins = 100)\n",
    "#plt.xscale('log')\n",
    "plt.show()\n"
   ]
  },
  {
   "cell_type": "code",
   "execution_count": null,
   "metadata": {},
   "outputs": [],
   "source": []
  }
 ],
 "metadata": {
  "kernelspec": {
   "display_name": "base",
   "language": "python",
   "name": "python3"
  },
  "language_info": {
   "codemirror_mode": {
    "name": "ipython",
    "version": 3
   },
   "file_extension": ".py",
   "mimetype": "text/x-python",
   "name": "python",
   "nbconvert_exporter": "python",
   "pygments_lexer": "ipython3",
   "version": "3.11.7"
  }
 },
 "nbformat": 4,
 "nbformat_minor": 2
}
