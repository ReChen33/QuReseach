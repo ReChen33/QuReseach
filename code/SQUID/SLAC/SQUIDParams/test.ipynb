{
 "cells": [
  {
   "cell_type": "code",
   "execution_count": 2,
   "metadata": {},
   "outputs": [
    {
     "name": "stdout",
     "output_type": "stream",
     "text": [
      "{'Correct.1': {'pstring': '014/14/1/1', 'transimpedance': 738.6014767733689, 'Vpp': 0.004890991306172068, 'Ref_Vpp': 3.5, 'output_impedance': 738.6854410434793, 'current_bias': 0.8646087332468655}, 'Correct.2': {'pstring': '014/14/1/2', 'transimpedance': 782.7050887126618, 'Vpp': 0.005078868632088843, 'Ref_Vpp': 3.5, 'output_impedance': 786.8017071944782, 'current_bias': 0.8716645049718978}, 'Correct.3': {'pstring': '014/14/1/3', 'transimpedance': 750.0234353106313, 'Vpp': 0.00495586960619638, 'Ref_Vpp': 3.5, 'output_impedance': 786.3832603013815, 'current_bias': 0.8640553393860786}, 'Correct.4': {'pstring': '014/14/1/4', 'transimpedance': 766.6367128250912, 'Vpp': 0.00486456054007386, 'Ref_Vpp': 3.5, 'output_impedance': 776.2358584121896, 'current_bias': 0.8568612191958495}, 'Correct.5': {'pstring': '014/14/2/1', 'transimpedance': 740.6770745750493, 'Vpp': 0.004628945772114084, 'Ref_Vpp': 3.5, 'output_impedance': 749.7236778849222, 'current_bias': 0.8709727626459143}, 'Correct.6': {'pstring': '014/14/2/2', 'transimpedance': 721.7787676991215, 'Vpp': 0.004661856040691251, 'Ref_Vpp': 3.5, 'output_impedance': 757.6633355325631, 'current_bias': 0.8693125810635537}, 'Correct.7': {'pstring': '014/14/2/3', 'transimpedance': 791.058587651555, 'Vpp': 0.004851806414463156, 'Ref_Vpp': 3.5, 'output_impedance': 806.852973826983, 'current_bias': 0.8733246865542584}, 'Correct.8': {'pstring': '014/12/2/4', 'transimpedance': 641.2679432818794, 'Vpp': 0.004471116582196456, 'Ref_Vpp': 3.5, 'output_impedance': 648.4899472090693, 'current_bias': 0.9151059230436661}}\n"
     ]
    }
   ],
   "source": [
    "import pickle as pkl\n",
    "\n",
    "with open('20240701_162446SQUIDParams.pkl','rb') as f:\n",
    "    wafer_dict = pkl.load(f)\n",
    "\n",
    "print(wafer_dict)"
   ]
  },
  {
   "cell_type": "code",
   "execution_count": null,
   "metadata": {},
   "outputs": [],
   "source": []
  }
 ],
 "metadata": {
  "kernelspec": {
   "display_name": "base",
   "language": "python",
   "name": "python3"
  },
  "language_info": {
   "codemirror_mode": {
    "name": "ipython",
    "version": 3
   },
   "file_extension": ".py",
   "mimetype": "text/x-python",
   "name": "python",
   "nbconvert_exporter": "python",
   "pygments_lexer": "ipython3",
   "version": "3.11.7"
  }
 },
 "nbformat": 4,
 "nbformat_minor": 2
}
