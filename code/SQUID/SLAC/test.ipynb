{
 "cells": [
  {
   "cell_type": "code",
   "execution_count": 1,
   "metadata": {},
   "outputs": [
    {
     "name": "stdout",
     "output_type": "stream",
     "text": [
      "code for check the file path\n"
     ]
    }
   ],
   "source": [
    "\"\"\"check if file exists in the current working directory\n",
    "import os\n",
    "\n",
    "print(\"current working directory: \", os.getcwd())\n",
    "data_file = '\\SQUIDParams\\\\20230310_002446SQUIDParams.pkl'\n",
    "Absolute_path = os.getcwd()+data_file\n",
    "print(\"Absolute path: \", Absolute_path)\n",
    "print(\"Directory: \", os.path.dirname(Absolute_path))\n",
    "print(os.path.isfile(Absolute_path))\n",
    "\"\"\"\n",
    "print(\"code for check the file path\")"
   ]
  },
  {
   "cell_type": "code",
   "execution_count": 26,
   "metadata": {},
   "outputs": [
    {
     "name": "stdout",
     "output_type": "stream",
     "text": [
      "dict_keys(['tune_ctime', 8])\n"
     ]
    }
   ],
   "source": [
    "import pickle\n",
    "import gzip\n",
    "\n",
    "data_file = 'results_1717115674_c8.pklz'\n",
    "\n",
    "with gzip.open(data_file, \"rb\") as file:\n",
    "    data = pickle.load(file)\n",
    "\n",
    "print(data.keys())"
   ]
  },
  {
   "cell_type": "code",
   "execution_count": 5,
   "metadata": {},
   "outputs": [
    {
     "name": "stdout",
     "output_type": "stream",
     "text": [
      "tune_ctime: 1717115674\n",
      "sa_bias_dac_to_uA: 0.0025223473681034937\n",
      "sa_bias_dac: 19307\n",
      "sa_bias_uA: 48.69896063597415\n",
      "sa_fb_dac_to_uA: 0.007165634656294612\n",
      "sa_fb_dac: [    0    10    20 ... 19970 19980 19990]\n",
      "sa_fb_uA: [0.00000000e+00 4.83918899e-02 9.67837798e-02 ... 9.66386042e+01\n",
      " 9.66869961e+01 9.67353879e+01]\n",
      "sa_out_m_adu2mV: 0.0007075\n",
      "sa_offset_dac_to_mV: 0.0011595249141099942\n",
      "sa_out_b_adu2mV: 10.745317379057315\n",
      "sa_out_adu: [-1770.10909091 -1860.90606061 -1952.48181818 ... -3723.97878788\n",
      " -3800.04242424 -3878.80606061]\n",
      "sa_out_mV: [9.4929652  9.42872634 9.36393649 ... 8.11060239 8.05678736 8.00106209]\n",
      "mce_sa_fb_lock_dac: 1106\n",
      "mce_sa_fb_lock_uA: 7.925191929861841\n",
      "mce_sa_out_lock_mV: 7.920741116936103\n",
      "sa_phi0_fb_uA: 35.398235202095385\n",
      "M_ssa_fb_pH: 58.416297767228684\n",
      "sa_out_max_idx: 311\n",
      "sa_out_max_upslope_idx: 131\n",
      "sa_out_max_downslope_idx: 11\n",
      "Vmod_adu: 11838.348484848484\n",
      "Vmod_mV: 8.375631553030303\n",
      "dV_ADU_dSAFB_DAC_downslope: -10.338484848484823\n",
      "dV_nV_dSAFB_uphi0_downslope: -36.13352146969688\n",
      "dV_nV_dSAIN_pA_downslope: -1.5115090654656795\n",
      "dV_ADU_dSAFB_DAC_upslope: 9.816363636363537\n",
      "dV_nV_dSAFB_uphi0_upslope: 34.30868172727238\n",
      "dV_nV_dSAIN_pA_upslope: 1.435173803871819\n",
      "dV_ADU_dSAFB_DAC_mceslope: 6.888787878787859\n",
      "dV_nV_dSAFB_uphi0_mceslope: 24.07665807575751\n",
      "dV_nV_dSAIN_pA_mceslope: 1.0071558339019047\n"
     ]
    }
   ],
   "source": [
    "for key1 in data.keys():\n",
    "    \n",
    "    if type(data[key1]) == dict:\n",
    "        for key2 in data[key1].keys():\n",
    "            print(f\"{key2}: {data[key1][key2]}\")\n",
    "            #here have 29 keys in data[8]\n",
    "    \n",
    "    else:    \n",
    "        print(f\"{key1}: {data[key1]}\")\n",
    "        \n",
    "    "
   ]
  },
  {
   "cell_type": "code",
   "execution_count": 17,
   "metadata": {},
   "outputs": [
    {
     "name": "stdout",
     "output_type": "stream",
     "text": [
      "48.69896063597415\n",
      "19307 * 0.0025223473681034937 =  48.69896063597415\n"
     ]
    }
   ],
   "source": [
    "uA = data[8]['sa_bias_uA']\n",
    "print(uA)\n",
    "dac = data[8]['sa_bias_dac']\n",
    "dac_to_uA = data[8]['sa_bias_dac_to_uA']\n",
    "print(f\"{dac} * {dac_to_uA} = \",dac*dac_to_uA)"
   ]
  },
  {
   "cell_type": "code",
   "execution_count": 19,
   "metadata": {},
   "outputs": [
    {
     "name": "stdout",
     "output_type": "stream",
     "text": [
      "[ 0 10 20 30 40 50 60 70 80 90] 19990\n",
      "2000\n"
     ]
    }
   ],
   "source": [
    "sa_fb_dac = data[8]['sa_fb_dac']\n",
    "# for i in sa_fb_dac:\n",
    "#     print(i)\n",
    "print(sa_fb_dac[:10],max(sa_fb_dac))\n",
    "print(len(sa_fb_dac)) # 2000 why?\n",
    "\n",
    "#print(24*60*60/2000) # 43.2s/point?"
   ]
  },
  {
   "cell_type": "code",
   "execution_count": 23,
   "metadata": {},
   "outputs": [
    {
     "name": "stdout",
     "output_type": "stream",
     "text": [
      "2000\n",
      "[9.4929652  9.42872634 9.36393649 9.2964753  9.23962445 9.17088976\n",
      " 9.10728122 9.04796914 8.9767732  8.91556802] 15.534095447239133\n",
      "[9.4929652  9.42872634 9.36393649 9.2964753  9.23962445 9.17088976\n",
      " 9.10728122 9.04796914 8.9767732  8.91556802] 15.534095447239133\n",
      "19.120948932087618\n"
     ]
    }
   ],
   "source": [
    "sa_out_adu = data[8]['sa_out_adu']\n",
    "print(len(sa_out_adu)) # 2000\n",
    "sa_out_m_adu2mV = data[8]['sa_out_m_adu2mV']\n",
    "sa_out_b_adu2mV = data[8]['sa_out_b_adu2mV']\n",
    "sa_out_mV = data[8]['sa_out_mV']\n",
    "print(sa_out_mV[:10],max(sa_out_mV))\n",
    "\n",
    "sa_out_mV = sa_out_adu * sa_out_m_adu2mV + sa_out_b_adu2mV\n",
    "print(sa_out_mV[:10],max(sa_out_mV))\n"
   ]
  },
  {
   "cell_type": "code",
   "execution_count": null,
   "metadata": {},
   "outputs": [],
   "source": [
    "dV_nV_dSAIN_pA_downslope = data[8]['dV_nV_dSAIN_pA_downslope']\n"
   ]
  },
  {
   "cell_type": "markdown",
   "metadata": {},
   "source": [
    "tune_ctime  recode time?  \n",
    "\n",
    "(\n",
    "DAC-->look like a unit?\n",
    "mce   (mce data)?\n",
    "ADU  ?       \n",
    "sa-->  “SQUID series arrays” (SSAs);     \n",
    "M--> mutual inductance (pH is Pico Henry = 10^-12 Henry)      \n",
    "fb --> feedback\n",
    "uA-->microampere (µA) mV-->millivolt (mV) .      \n",
    ")  \n",
    "\n",
    "`*`sa_bias_dac_to_uA * sa_bias_dac = sa_bias_uA --> 19307 * 0.0025223473681034937 ~=  48.7    \n",
    "\n",
    "sa_fb_dac_to_uA * sa_fb_dac = `*`sa_fb_uA ('SSA Feedback Current (uA)' is xaxis)   \n",
    "sa_fb_dac & sa_fb_uA: array length is 2000    \n",
    "\n",
    "sa_out_mV = sa_out_adu * sa_out_m_adu2mV + sa_out_b_adu2mV       \n",
    "`*`sa_out_mV (SSA Output Voltage (mV) is yaxis) array length is 2000\n",
    "\n",
    "?mce_sa_fb_lock_dac: 1106\n",
    "?mce_sa_fb_lock_uA: 7.925191929861841\n",
    "?mce_sa_out_lock_mV: 7.920741116936103\n",
    "\n",
    "`*`sa_phi0_fb_uA: -->35.4      \n",
    "\n",
    "`*` M_ssa_fb_pH: 58.416297767228684  \n",
    "\n",
    "?sa_out_max_idx: 311\n",
    "?sa_out_max_upslope_idx: 131\n",
    "?sa_out_max_downslope_idx: 11\n",
    "\n",
    "Vmod_adu: 11838.348484848484           \n",
    "`*` Vmod_mV = ? --> 8.376\n",
    "\n",
    "`*`dV_ADU_dSAFB_DAC_downslope  --> -10.34                        \n",
    "`*`dV_nV_dSAFB_uphi0_downslope   --> -36.13                       \n",
    "\n",
    "dV_nV_dSAIN_pA_downslope = ? --> -1.5115090654656795             \n",
    "\n",
    "`*`dV_ADU_dSAFB_DAC_upslope  -->9.82  \n",
    "`*`dV_nV_dSAFB_uphi0_upslope   -->34.31\n",
    "\n",
    "dV_nV_dSAIN_pA_upslope: 1.435173803871819     \n",
    "\n",
    "`*`dV_ADU_dSAFB_DAC_mceslope: 6.888787878787859                \n",
    "`*`dV_nV_dSAFB_uphi0_mceslope: 24.07665807575751   \n",
    "            \n",
    "dV_nV_dSAIN_pA_mceslope: 1.0071558339019047                  \n",
    "\n",
    "`*` is in figure ...4.37.24 PM"
   ]
  }
 ],
 "metadata": {
  "kernelspec": {
   "display_name": "base",
   "language": "python",
   "name": "python3"
  },
  "language_info": {
   "codemirror_mode": {
    "name": "ipython",
    "version": 3
   },
   "file_extension": ".py",
   "mimetype": "text/x-python",
   "name": "python",
   "nbconvert_exporter": "python",
   "pygments_lexer": "ipython3",
   "version": "3.11.7"
  }
 },
 "nbformat": 4,
 "nbformat_minor": 2
}
