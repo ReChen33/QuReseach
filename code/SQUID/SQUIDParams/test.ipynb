{
 "cells": [
  {
   "cell_type": "markdown",
   "metadata": {},
   "source": [
    "\n",
    "{'pstring': '014/14/2/3', 'transimpedance': 727.2621911621392, 'Vpp': 0.004927079615255271, 'Ref_Vpp': 0.0, 'output_impedance': 291.38209297866723, 'current_bias': 0.8785819282317335}\n",
    "\n",
    "\n",
    "'pstring' Pathstrings: '014/14/1/1' record name\n",
    " \n",
    "'transimpedance': 738.6014767733689, slope (= dV/dI) \n",
    "\n",
    "'Vpp': 0.004890991306172068 high of function\n",
    "\n",
    "\n"
   ]
  },
  {
   "cell_type": "code",
   "execution_count": 14,
   "metadata": {},
   "outputs": [
    {
     "name": "stdout",
     "output_type": "stream",
     "text": [
      "<class 'dict_keys'>\n",
      "<class 'dict_keys'>\n",
      "<class 'dict_keys'>\n",
      "<class 'dict_keys'>\n",
      "<class 'dict_keys'>\n",
      "<class 'dict_keys'>\n"
     ]
    }
   ],
   "source": [
    "import pickle as pkl\n",
    "\n",
    "def getDict(file):\n",
    "    with open(file,'rb') as f:\n",
    "        SQUID_dict = pkl.load(f)\n",
    "        print(type(SQUID_dict.keys()))\n",
    "    return SQUID_dict\n",
    "\n",
    "file_20230911_222403 = '20230911_222403_SQUIDParams.pkl'\n",
    "file_20230919_212918 = '20230919_212918_SQUIDParams.pkl'\n",
    "file_20230919_221550 = '20230919_221550_SQUIDParams.pkl'\n",
    "file_20230919_234736 = '20230919_234736_SQUIDParams.pkl'\n",
    "file_20230920_014329 = '20230920_014329_SQUIDParams.pkl'\n",
    "file_20230920_031303 = '20230920_031303_SQUIDParams.pkl'\n",
    "\n",
    "dict_20230911_222403 = getDict(file_20230911_222403)\n",
    "dict_20230919_212918 = getDict(file_20230919_212918)\n",
    "dict_20230919_221550 = getDict(file_20230919_221550)\n",
    "dict_20230919_234736 = getDict(file_20230919_234736)\n",
    "dict_20230920_014329 = getDict(file_20230920_014329)\n",
    "dict_20230920_031303 = getDict(file_20230920_031303)\n",
    "\n"
   ]
  },
  {
   "cell_type": "code",
   "execution_count": 17,
   "metadata": {},
   "outputs": [
    {
     "name": "stdout",
     "output_type": "stream",
     "text": [
      "<class 'list'>\n"
     ]
    }
   ],
   "source": [
    "# get all same exictance keys in all dictionaries\n",
    "same = list(dict_20230911_222403.keys()) \n",
    "print(type(same))"
   ]
  },
  {
   "cell_type": "code",
   "execution_count": null,
   "metadata": {},
   "outputs": [],
   "source": []
  }
 ],
 "metadata": {
  "kernelspec": {
   "display_name": "base",
   "language": "python",
   "name": "python3"
  },
  "language_info": {
   "codemirror_mode": {
    "name": "ipython",
    "version": 3
   },
   "file_extension": ".py",
   "mimetype": "text/x-python",
   "name": "python",
   "nbconvert_exporter": "python",
   "pygments_lexer": "ipython3",
   "version": "3.11.7"
  }
 },
 "nbformat": 4,
 "nbformat_minor": 2
}
