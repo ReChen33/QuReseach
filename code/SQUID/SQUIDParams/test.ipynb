{
 "cells": [
  {
   "cell_type": "markdown",
   "metadata": {},
   "source": [
    "\n",
    "{'pstring': '014/14/2/3', 'transimpedance': 727.2621911621392, 'Vpp': 0.004927079615255271, 'Ref_Vpp': 0.0, 'output_impedance': 291.38209297866723, 'current_bias': 0.8785819282317335}\n",
    "\n",
    "\n",
    "'pstring' Pathstrings: '014/14/1/1' record name\n",
    " \n",
    "'transimpedance': 738.6014767733689, slope (= dV/dI) \n",
    "\n",
    "'Vpp': 0.004890991306172068 high of function(max to zero)\n",
    "\n",
    "\n"
   ]
  },
  {
   "cell_type": "code",
   "execution_count": 1,
   "metadata": {},
   "outputs": [
    {
     "name": "stdout",
     "output_type": "stream",
     "text": [
      "<class 'dict_keys'>\n",
      "<class 'dict_keys'>\n",
      "<class 'dict_keys'>\n",
      "<class 'dict_keys'>\n",
      "<class 'dict_keys'>\n",
      "<class 'dict_keys'>\n"
     ]
    }
   ],
   "source": [
    "import pickle as pkl\n",
    "\n",
    "\n",
    "\n",
    "def getDict(file):\n",
    "    with open(file,'rb') as f:\n",
    "        SQUID_dict = pkl.load(f)\n",
    "        print(type(SQUID_dict.keys()))\n",
    "    return SQUID_dict\n",
    "\n",
    "file_20230911_222403 = '20230911_222403_SQUIDParams.pkl'\n",
    "file_20230919_212918 = '20230919_212918_SQUIDParams.pkl'\n",
    "file_20230919_221550 = '20230919_221550_SQUIDParams.pkl'\n",
    "file_20230919_234736 = '20230919_234736_SQUIDParams.pkl'\n",
    "file_20230920_014329 = '20230920_014329_SQUIDParams.pkl'\n",
    "file_20230920_031303 = '20230920_031303_SQUIDParams.pkl'\n",
    "\n",
    "dict_20230911_222403 = getDict(file_20230911_222403)\n",
    "dict_20230919_212918 = getDict(file_20230919_212918)\n",
    "dict_20230919_221550 = getDict(file_20230919_221550)\n",
    "dict_20230919_234736 = getDict(file_20230919_234736)\n",
    "dict_20230920_014329 = getDict(file_20230920_014329)\n",
    "dict_20230920_031303 = getDict(file_20230920_031303)\n",
    "\n"
   ]
  },
  {
   "cell_type": "code",
   "execution_count": 2,
   "metadata": {},
   "outputs": [],
   "source": [
    "# get all same exictance keys in all dictionaries\n",
    "#   to do that first, get turn all keys to sets\n",
    "dict_20230911_222403_keys = set(dict_20230911_222403.keys())\n",
    "dict_20230919_212918_keys = set(dict_20230919_212918.keys())\n",
    "dict_20230919_221550_keys = set(dict_20230919_221550.keys())\n",
    "dict_20230919_234736_keys = set(dict_20230919_234736.keys())\n",
    "dict_20230920_014329_keys = set(dict_20230920_014329.keys())\n",
    "dict_20230920_031303_keys = set(dict_20230920_031303.keys())\n",
    "\n",
    "#   then get the intersection of all keys\n",
    "same_keys = dict_20230911_222403_keys.intersection(\n",
    "    dict_20230919_212918_keys, dict_20230919_221550_keys, dict_20230919_234736_keys,\n",
    "    dict_20230920_014329_keys, dict_20230920_031303_keys)\n",
    "#same_keys = dict_20230911_222403_keys&dict_20230919_212918_keys&dict_20230919_221550_keys\\\n",
    "#&dict_20230919_234736_keys&dict_20230920_014329_keys&dict_20230920_031303_keys  # same as above   \n",
    "   \n",
    "    "
   ]
  },
  {
   "cell_type": "markdown",
   "metadata": {},
   "source": [
    "for sin like function:\n",
    "    $$\\frac{slop1}{slop2} = \\frac{A1}{A2} $$\n",
    "\n",
    "we want to compare the slope in the same amplitude\n",
    "let's say we want the slope for 0.01Vpp "
   ]
  },
  {
   "cell_type": "code",
   "execution_count": 11,
   "metadata": {},
   "outputs": [
    {
     "name": "stdout",
     "output_type": "stream",
     "text": [
      "range(0, 118)\n"
     ]
    },
    {
     "data": {
      "image/png": "[encoded data removed]",
      "text/plain": [
       "<Figure size 640x480 with 1 Axes>"
      ]
     },
     "metadata": {},
     "output_type": "display_data"
    }
   ],
   "source": [
    "import numpy as np\n",
    "import matplotlib.pyplot as plt\n",
    "\n",
    "all_unifiedTrans = []\n",
    "\n",
    "def getPString(dict):\n",
    "    pstring = dict['pstring']\n",
    "    return pstring\n",
    "\n",
    "def getUnifiedTrans(dict):\n",
    "    unified_Vpp = 0.01\n",
    "    Trans = dict['transimpedance']\n",
    "    Vpp = dict['Vpp']\n",
    "    unified_Trans = unified_Vpp/Vpp*Trans\n",
    "    return unified_Trans\n",
    "\n",
    "print(range(len(same_keys)))\n",
    "# save the same psting for same key in dictionary\n",
    "for i in range(len(same_keys)): #limit 5 figures\n",
    "    \n",
    "    key = list(same_keys)[i]\n",
    "    \n",
    "    pstring_20230911_222403 = getPString(dict_20230911_222403[key])\n",
    "    pstring_20230919_212918 = getPString(dict_20230919_212918[key])\n",
    "    pstring_20230919_221550 = getPString(dict_20230919_221550[key])\n",
    "    pstring_20230919_234736 = getPString(dict_20230919_234736[key])\n",
    "    pstring_20230920_014329 = getPString(dict_20230920_014329[key])\n",
    "    pstring_20230920_031303 = getPString(dict_20230920_031303[key])\n",
    "    \n",
    "    if not (pstring_20230911_222403 == pstring_20230919_212918 == pstring_20230919_221550 \\\n",
    "    == pstring_20230919_234736 == pstring_20230920_014329 == pstring_20230920_031303):\n",
    "        \n",
    "        print(f\"pstring {i} is not the same for key: {key}\")\n",
    "\n",
    "    unifiedTrans_20230911_222403 = getUnifiedTrans(dict_20230911_222403[key])\n",
    "    unifiedTrans_20230919_212918 = getUnifiedTrans(dict_20230919_212918[key])\n",
    "    unifiedTrans_20230919_221550 = getUnifiedTrans(dict_20230919_221550[key])\n",
    "    unifiedTrans_20230919_234736 = getUnifiedTrans(dict_20230919_234736[key])\n",
    "    unifiedTrans_20230920_014329 = getUnifiedTrans(dict_20230920_014329[key])\n",
    "    unifiedTrans_20230920_031303 = getUnifiedTrans(dict_20230920_031303[key])\n",
    "\n",
    "    all_unifiedTrans.append(unifiedTrans_20230911_222403)\n",
    "    all_unifiedTrans.append(unifiedTrans_20230919_212918)\n",
    "    all_unifiedTrans.append(unifiedTrans_20230919_221550)\n",
    "    all_unifiedTrans.append(unifiedTrans_20230919_234736)\n",
    "    all_unifiedTrans.append(unifiedTrans_20230920_014329)\n",
    "    all_unifiedTrans.append(unifiedTrans_20230920_031303)\n",
    "\n",
    "\n",
    "    # all_unifiedTrans = [unifiedTrans_20230911_222403, \n",
    "    #                     unifiedTrans_20230919_212918, \n",
    "    #                     unifiedTrans_20230919_221550, \n",
    "    #                     unifiedTrans_20230919_234736, \n",
    "    #                     unifiedTrans_20230920_014329, \n",
    "    #                     unifiedTrans_20230920_031303]\n",
    "    \n",
    "    \n",
    "plt.hist(all_unifiedTrans, bins=10)\n",
    "plt.title(\"Histogram of all unified Transimpedance\")\n",
    "plt.show()\n",
    "\n",
    "\n",
    "    \n"
   ]
  },
  {
   "cell_type": "code",
   "execution_count": 4,
   "metadata": {},
   "outputs": [
    {
     "data": {
      "text/plain": [
       "' A way may can use for name\\n# Initialize an empty dictionary\\nkeys = {}\\n\\n# Loop and create dynamic key names with corresponding values\\nfor i in range(3):  # Example range\\n    key_name = f\"key{i}\"  # Construct the key name\\n    keys[key_name] = i  # Assign the value\\n\\n# Now keys dictionary has what you need\\nprint(keys)\\n'"
      ]
     },
     "execution_count": 4,
     "metadata": {},
     "output_type": "execute_result"
    }
   ],
   "source": [
    "\"\"\" A way may can use for name\n",
    "# Initialize an empty dictionary\n",
    "keys = {}\n",
    "\n",
    "# Loop and create dynamic key names with corresponding values\n",
    "for i in range(3):  # Example range\n",
    "    key_name = f\"key{i}\"  # Construct the key name\n",
    "    keys[key_name] = i  # Assign the value\n",
    "\n",
    "# Now keys dictionary has what you need\n",
    "print(keys)\n",
    "\"\"\""
   ]
  },
  {
   "cell_type": "code",
   "execution_count": null,
   "metadata": {},
   "outputs": [],
   "source": []
  }
 ],
 "metadata": {
  "kernelspec": {
   "display_name": "base",
   "language": "python",
   "name": "python3"
  },
  "language_info": {
   "codemirror_mode": {
    "name": "ipython",
    "version": 3
   },
   "file_extension": ".py",
   "mimetype": "text/x-python",
   "name": "python",
   "nbconvert_exporter": "python",
   "pygments_lexer": "ipython3",
   "version": "3.11.7"
  }
 },
 "nbformat": 4,
 "nbformat_minor": 2
}
